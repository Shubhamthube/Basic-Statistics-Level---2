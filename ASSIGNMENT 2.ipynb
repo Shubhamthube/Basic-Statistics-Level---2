{
 "cells": [
  {
   "cell_type": "markdown",
   "id": "197f22c7",
   "metadata": {},
   "source": [
    "# Assignment 2 "
   ]
  },
  {
   "cell_type": "markdown",
   "id": "1abbc620",
   "metadata": {},
   "source": [
    "Set +1 Descriptive Statistics and Probability\n"
   ]
  },
  {
   "cell_type": "markdown",
   "id": "746396eb",
   "metadata": {},
   "source": [
    "Q1 \tLook at the data given below. Plot the data, find the outliers and find out  μ,σ,σ^2"
   ]
  },
  {
   "cell_type": "code",
   "execution_count": 3,
   "id": "60b787db",
   "metadata": {},
   "outputs": [],
   "source": [
    "import seaborn as sns\n",
    "import statistics as stats"
   ]
  },
  {
   "cell_type": "code",
   "execution_count": 4,
   "id": "a3e4a660",
   "metadata": {},
   "outputs": [],
   "source": [
    "data=(24.23,25.53,25.41,24.14,29.62,28.25,25.81,24.39,40.26,32.95,91.36,25.99,39.42,26.71,26.71)"
   ]
  },
  {
   "cell_type": "code",
   "execution_count": 5,
   "id": "70c2c7db",
   "metadata": {},
   "outputs": [
    {
     "name": "stdout",
     "output_type": "stream",
     "text": [
      "Mean of data is 32.718666666666664 \n"
     ]
    }
   ],
   "source": [
    "print(\"Mean of data is % s \"%stats.mean(data))"
   ]
  },
  {
   "cell_type": "code",
   "execution_count": 6,
   "id": "bd7b8d8d",
   "metadata": {},
   "outputs": [
    {
     "name": "stdout",
     "output_type": "stream",
     "text": [
      "Variance (singma square) of data is 289.6809838095238\n"
     ]
    }
   ],
   "source": [
    "print(\"Variance (singma square) of data is % s\"%stats.variance(data))\n"
   ]
  },
  {
   "cell_type": "code",
   "execution_count": 7,
   "id": "752117f1",
   "metadata": {},
   "outputs": [
    {
     "name": "stdout",
     "output_type": "stream",
     "text": [
      "Std Deviation of Data is 17.020017150682424\n"
     ]
    }
   ],
   "source": [
    "print(\"Std Deviation of Data is %s\"%stats.stdev(data))"
   ]
  },
  {
   "cell_type": "code",
   "execution_count": 8,
   "id": "bf0f53e0",
   "metadata": {},
   "outputs": [
    {
     "data": {
      "text/plain": [
       "<AxesSubplot:>"
      ]
     },
     "execution_count": 8,
     "metadata": {},
     "output_type": "execute_result"
    },
    {
     "data": {
      "image/png": "[encoded data removed]",
      "text/plain": [
       "<Figure size 432x288 with 1 Axes>"
      ]
     },
     "metadata": {
      "needs_background": "light"
     },
     "output_type": "display_data"
    }
   ],
   "source": [
    "sns.boxplot(data=data)"
   ]
  },
  {
   "cell_type": "code",
   "execution_count": 9,
   "id": "c403e653",
   "metadata": {},
   "outputs": [
    {
     "data": {
      "text/plain": [
       "<AxesSubplot:ylabel='Count'>"
      ]
     },
     "execution_count": 9,
     "metadata": {},
     "output_type": "execute_result"
    },
    {
     "data": {
      "image/png": "[encoded data removed]",
      "text/plain": [
       "<Figure size 432x288 with 1 Axes>"
      ]
     },
     "metadata": {
      "needs_background": "light"
     },
     "output_type": "display_data"
    }
   ],
   "source": [
    "sns.histplot(data=data)"
   ]
  },
  {
   "cell_type": "code",
   "execution_count": 1,
   "id": "d80a49c7",
   "metadata": {},
   "outputs": [
    {
     "name": "stdout",
     "output_type": "stream",
     "text": [
      "37.70678026977698\n"
     ]
    }
   ],
   "source": [
    "\n",
    "import numpy as np\n",
    "\n",
    "mu= 45 \n",
    "sigma= 8\n",
    "s = np.random.normal(mu, sigma)\n",
    "print(s)"
   ]
  },
  {
   "cell_type": "code",
   "execution_count": null,
   "id": "13067640",
   "metadata": {},
   "outputs": [],
   "source": []
  },
  {
   "cell_type": "code",
   "execution_count": null,
   "id": "8e4e02ff",
   "metadata": {},
   "outputs": [],
   "source": []
  },
  {
   "cell_type": "markdown",
   "id": "c6e77c56",
   "metadata": {},
   "source": [
    "Set 2 :  Normal distribution, Functions of Random Variables"
   ]
  },
  {
   "cell_type": "markdown",
   "id": "8795b50d",
   "metadata": {},
   "source": [
    "Q4 "
   ]
  },
  {
   "cell_type": "code",
   "execution_count": 7,
   "id": "159c30c6",
   "metadata": {},
   "outputs": [
    {
     "data": {
      "text/plain": [
       "-2.575829303548901"
      ]
     },
     "execution_count": 7,
     "metadata": {},
     "output_type": "execute_result"
    }
   ],
   "source": [
    "import scipy.stats as stats\n",
    "import math\n",
    "stats.norm.ppf(0.005)"
   ]
  },
  {
   "cell_type": "code",
   "execution_count": 8,
   "id": "208ae228",
   "metadata": {},
   "outputs": [
    {
     "data": {
      "text/plain": [
       "2.5758293035489004"
      ]
     },
     "execution_count": 8,
     "metadata": {},
     "output_type": "execute_result"
    }
   ],
   "source": [
    "stats.norm.ppf(0.995)"
   ]
  },
  {
   "cell_type": "code",
   "execution_count": null,
   "id": "f13b6421",
   "metadata": {},
   "outputs": [],
   "source": []
  }
 ],
 "metadata": {
  "kernelspec": {
   "display_name": "Python 3 (ipykernel)",
   "language": "python",
   "name": "python3"
  },
  "language_info": {
   "codemirror_mode": {
    "name": "ipython",
    "version": 3
   },
   "file_extension": ".py",
   "mimetype": "text/x-python",
   "name": "python",
   "nbconvert_exporter": "python",
   "pygments_lexer": "ipython3",
   "version": "3.9.7"
  }
 },
 "nbformat": 4,
 "nbformat_minor": 5
}
